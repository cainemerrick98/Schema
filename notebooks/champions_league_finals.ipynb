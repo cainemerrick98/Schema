{
 "cells": [
  {
   "cell_type": "markdown",
   "id": "4d9b55ce",
   "metadata": {},
   "source": [
    "# Using Schema To Extract a DataFrame of Champions League Finals\n",
    "\n",
    "This is a relatively simple example and doesn't actually require an LLM. However it was one of the first tests we made schema pass before adding more functionality."
   ]
  },
  {
   "cell_type": "markdown",
   "id": "cf245bbc",
   "metadata": {},
   "source": [
    "## 1. Imports"
   ]
  },
  {
   "cell_type": "code",
   "execution_count": 8,
   "id": "3abcf783",
   "metadata": {},
   "outputs": [],
   "source": [
    "import sys\n",
    "import os\n",
    "\n",
    "# Add the project root directory to sys.path\n",
    "project_root = os.path.abspath(os.path.join(os.getcwd(), '..'))\n",
    "if project_root not in sys.path:\n",
    "    sys.path.insert(0, project_root)"
   ]
  },
  {
   "cell_type": "code",
   "execution_count": 9,
   "id": "eae411c3",
   "metadata": {},
   "outputs": [],
   "source": [
    "from schema.extract import extract\n",
    "from pydantic import BaseModel, Field\n",
    "from openai import OpenAI\n",
    "from dotenv import load_dotenv\n",
    "\n",
    "load_dotenv()\n",
    "\n",
    "api_key = os.getenv('OPEN_AI_KEY')"
   ]
  },
  {
   "cell_type": "markdown",
   "id": "10db3264",
   "metadata": {},
   "source": [
    "# 2. Define extraction parameters"
   ]
  },
  {
   "cell_type": "code",
   "execution_count": null,
   "id": "1da4aff1",
   "metadata": {},
   "outputs": [],
   "source": [
    "url = 'https://www.topendsports.com/sport/soccer/list-league-uefa.htm'\n",
    "model = OpenAI(api_key=api_key)\n",
    "class ChampionsLeagueFinal(BaseModel):\n",
    "        year:int = Field(description='The year the final was played')\n",
    "        winner:str\n",
    "        runner_up:str \n",
    "        score:str = Field(description='The final score after extra time not including penalties', pattern=r'\\d+-\\d+')"
   ]
  }
 ],
 "metadata": {
  "kernelspec": {
   "display_name": "venv",
   "language": "python",
   "name": "python3"
  },
  "language_info": {
   "codemirror_mode": {
    "name": "ipython",
    "version": 3
   },
   "file_extension": ".py",
   "mimetype": "text/x-python",
   "name": "python",
   "nbconvert_exporter": "python",
   "pygments_lexer": "ipython3",
   "version": "3.11.4"
  }
 },
 "nbformat": 4,
 "nbformat_minor": 5
}
