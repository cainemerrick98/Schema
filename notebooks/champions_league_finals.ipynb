{
 "cells": [
  {
   "cell_type": "markdown",
   "id": "4d9b55ce",
   "metadata": {},
   "source": [
    "# Using Schema To Extract a DataFrame of Champions League Finals\n",
    "\n",
    "This is a relatively simple example and doesn't actually require an LLM. However it was one of the first tests we made schema pass before adding more functionality."
   ]
  },
  {
   "cell_type": "markdown",
   "id": "cf245bbc",
   "metadata": {},
   "source": [
    "## 1. Imports"
   ]
  },
  {
   "cell_type": "code",
   "execution_count": 2,
   "id": "3abcf783",
   "metadata": {},
   "outputs": [],
   "source": [
    "import sys\n",
    "import os\n",
    "\n",
    "# Add the project root directory to sys.path\n",
    "project_root = os.path.abspath(os.path.join(os.getcwd(), '..'))\n",
    "if project_root not in sys.path:\n",
    "    sys.path.insert(0, project_root)"
   ]
  },
  {
   "cell_type": "code",
   "execution_count": 3,
   "id": "eae411c3",
   "metadata": {},
   "outputs": [],
   "source": [
    "from schema.extract import extract\n",
    "from pydantic import BaseModel, Field\n",
    "from openai import OpenAI\n",
    "from dotenv import load_dotenv\n",
    "\n",
    "load_dotenv()\n",
    "\n",
    "api_key = os.getenv('OPEN_AI_KEY')"
   ]
  },
  {
   "cell_type": "markdown",
   "id": "10db3264",
   "metadata": {},
   "source": [
    "# 2. Define extraction parameters"
   ]
  },
  {
   "cell_type": "code",
   "execution_count": 4,
   "id": "1da4aff1",
   "metadata": {},
   "outputs": [],
   "source": [
    "url = 'https://www.topendsports.com/sport/soccer/list-league-uefa.htm'\n",
    "model = OpenAI(api_key=api_key)\n",
    "class ChampionsLeagueFinal(BaseModel):\n",
    "        year:int = Field(description='The year the final was played')\n",
    "        winner:str\n",
    "        runner_up:str \n",
    "        score:str = Field(description='The final score after extra time not including penalties', pattern=r'\\d+-\\d+')"
   ]
  },
  {
   "cell_type": "markdown",
   "id": "32bc555f",
   "metadata": {},
   "source": [
    "## 3. Run Extract"
   ]
  },
  {
   "cell_type": "code",
   "execution_count": 5,
   "id": "66261098",
   "metadata": {},
   "outputs": [],
   "source": [
    "champions_league_winners_df = extract(model, ChampionsLeagueFinal, url)"
   ]
  },
  {
   "cell_type": "code",
   "execution_count": 6,
   "id": "1969b08c",
   "metadata": {},
   "outputs": [
    {
     "data": {
      "text/html": [
       "<div>\n",
       "<style scoped>\n",
       "    .dataframe tbody tr th:only-of-type {\n",
       "        vertical-align: middle;\n",
       "    }\n",
       "\n",
       "    .dataframe tbody tr th {\n",
       "        vertical-align: top;\n",
       "    }\n",
       "\n",
       "    .dataframe thead th {\n",
       "        text-align: right;\n",
       "    }\n",
       "</style>\n",
       "<table border=\"1\" class=\"dataframe\">\n",
       "  <thead>\n",
       "    <tr style=\"text-align: right;\">\n",
       "      <th></th>\n",
       "      <th>year</th>\n",
       "      <th>winner</th>\n",
       "      <th>runner_up</th>\n",
       "      <th>score</th>\n",
       "    </tr>\n",
       "  </thead>\n",
       "  <tbody>\n",
       "    <tr>\n",
       "      <th>0</th>\n",
       "      <td>2025</td>\n",
       "      <td>Paris Saint-Germain</td>\n",
       "      <td>Inter Milan</td>\n",
       "      <td>5-0</td>\n",
       "    </tr>\n",
       "    <tr>\n",
       "      <th>1</th>\n",
       "      <td>2024</td>\n",
       "      <td>Real Madrid</td>\n",
       "      <td>Borussia Dortmund</td>\n",
       "      <td>2-0</td>\n",
       "    </tr>\n",
       "    <tr>\n",
       "      <th>2</th>\n",
       "      <td>2023</td>\n",
       "      <td>Manchester City</td>\n",
       "      <td>Inter Milan</td>\n",
       "      <td>1-0</td>\n",
       "    </tr>\n",
       "    <tr>\n",
       "      <th>3</th>\n",
       "      <td>2022</td>\n",
       "      <td>Real Madrid</td>\n",
       "      <td>Liverpool</td>\n",
       "      <td>1-0</td>\n",
       "    </tr>\n",
       "    <tr>\n",
       "      <th>4</th>\n",
       "      <td>2021</td>\n",
       "      <td>Chelsea</td>\n",
       "      <td>Manchester City</td>\n",
       "      <td>1-0</td>\n",
       "    </tr>\n",
       "    <tr>\n",
       "      <th>...</th>\n",
       "      <td>...</td>\n",
       "      <td>...</td>\n",
       "      <td>...</td>\n",
       "      <td>...</td>\n",
       "    </tr>\n",
       "    <tr>\n",
       "      <th>66</th>\n",
       "      <td>1960</td>\n",
       "      <td>Real Madrid</td>\n",
       "      <td>Eintracht Frankfurt</td>\n",
       "      <td>7-3</td>\n",
       "    </tr>\n",
       "    <tr>\n",
       "      <th>67</th>\n",
       "      <td>1959</td>\n",
       "      <td>Real Madrid</td>\n",
       "      <td>Stade de Reims</td>\n",
       "      <td>2-0</td>\n",
       "    </tr>\n",
       "    <tr>\n",
       "      <th>68</th>\n",
       "      <td>1958</td>\n",
       "      <td>Real Madrid</td>\n",
       "      <td>Milan</td>\n",
       "      <td>3-2</td>\n",
       "    </tr>\n",
       "    <tr>\n",
       "      <th>69</th>\n",
       "      <td>1957</td>\n",
       "      <td>Real Madrid</td>\n",
       "      <td>Fiorentina</td>\n",
       "      <td>2-0</td>\n",
       "    </tr>\n",
       "    <tr>\n",
       "      <th>70</th>\n",
       "      <td>1956</td>\n",
       "      <td>Real Madrid</td>\n",
       "      <td>Stade de Reims</td>\n",
       "      <td>4-3</td>\n",
       "    </tr>\n",
       "  </tbody>\n",
       "</table>\n",
       "<p>71 rows × 4 columns</p>\n",
       "</div>"
      ],
      "text/plain": [
       "    year               winner            runner_up score\n",
       "0   2025  Paris Saint-Germain          Inter Milan   5-0\n",
       "1   2024          Real Madrid    Borussia Dortmund   2-0\n",
       "2   2023      Manchester City          Inter Milan   1-0\n",
       "3   2022          Real Madrid            Liverpool   1-0\n",
       "4   2021              Chelsea      Manchester City   1-0\n",
       "..   ...                  ...                  ...   ...\n",
       "66  1960          Real Madrid  Eintracht Frankfurt   7-3\n",
       "67  1959          Real Madrid       Stade de Reims   2-0\n",
       "68  1958          Real Madrid                Milan   3-2\n",
       "69  1957          Real Madrid           Fiorentina   2-0\n",
       "70  1956          Real Madrid       Stade de Reims   4-3\n",
       "\n",
       "[71 rows x 4 columns]"
      ]
     },
     "execution_count": 6,
     "metadata": {},
     "output_type": "execute_result"
    }
   ],
   "source": [
    "champions_league_winners_df"
   ]
  },
  {
   "cell_type": "markdown",
   "id": "bc1ced60",
   "metadata": {},
   "source": [
    "## 4. Use Extracted Data For Analysis"
   ]
  },
  {
   "cell_type": "code",
   "execution_count": 8,
   "id": "279eab9c",
   "metadata": {},
   "outputs": [
    {
     "data": {
      "text/plain": [
       "winner\n",
       "Real Madrid            15\n",
       "Bayern Munich           7\n",
       "Milan                   7\n",
       "Liverpool               6\n",
       "Barcelona               5\n",
       "Ajax                    4\n",
       "Inter Milan             3\n",
       "Manchester United       3\n",
       "Benfica                 2\n",
       "Porto                   2\n",
       "Nottingham Forest       2\n",
       "Chelsea                 2\n",
       "Juventus                2\n",
       "Celtic                  1\n",
       "Aston Villa             1\n",
       "Borussia Dortmund       1\n",
       "Marseille               1\n",
       "Manchester City         1\n",
       "Hamburg                 1\n",
       "Feyenoord               1\n",
       "Paris Saint-Germain     1\n",
       "PSV                     1\n",
       "Red Star Belgrade       1\n",
       "Steaua București        1\n",
       "Name: count, dtype: int64"
      ]
     },
     "execution_count": 8,
     "metadata": {},
     "output_type": "execute_result"
    }
   ],
   "source": [
    "champions_league_winners_df.value_counts('winner').sort_values(ascending=False)"
   ]
  },
  {
   "cell_type": "markdown",
   "id": "3a231f86",
   "metadata": {},
   "source": [
    "## 5. Save Data"
   ]
  },
  {
   "cell_type": "code",
   "execution_count": 9,
   "id": "ec708983",
   "metadata": {},
   "outputs": [],
   "source": [
    "champions_league_winners_df.to_csv('champions_league_final.csv')"
   ]
  }
 ],
 "metadata": {
  "kernelspec": {
   "display_name": "venv",
   "language": "python",
   "name": "python3"
  },
  "language_info": {
   "codemirror_mode": {
    "name": "ipython",
    "version": 3
   },
   "file_extension": ".py",
   "mimetype": "text/x-python",
   "name": "python",
   "nbconvert_exporter": "python",
   "pygments_lexer": "ipython3",
   "version": "3.11.4"
  }
 },
 "nbformat": 4,
 "nbformat_minor": 5
}
